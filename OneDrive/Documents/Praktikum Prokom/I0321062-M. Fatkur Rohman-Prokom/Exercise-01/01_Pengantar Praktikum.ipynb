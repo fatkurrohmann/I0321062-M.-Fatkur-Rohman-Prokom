{
 "cells": [
  {
   "cell_type": "markdown",
   "metadata": {},
   "source": [
    "***\n",
    "<h1 align=\"center\">Exercise 1</h1>\n",
    " \n",
    "***\n",
    "## Mengerjakan Exercise\n",
    "Kalian akan mengerjakan sebagian besar *exercise* pada file berformat **.ipynb**. Petuntuk maupun perintah pengerjaan *exercise* tersedia pada Cell **Markdown** ini dan kalian akan mengerjakkan *exercise* yang sebagian besar merupakan pembuatan kode program pada Cell **Python** dibawah. Sebagai contoh, coba kalian tulis ulang kode program dibawah ini di Cell Python di bawah baris <font color='green'># Kerjakan di bawah</font>.\n",
    "![](./images/01_contoh.png)\n",
    "Untuk memastikan bahwa kode program dapat dijalankan, coba jalankan kode tersebut dengan cara menekan icon 'play' disamping Cell Python seperti berikut:\n",
    "![](./images/01_iconPlay.png)\n",
    "Kalian bisa melihat output dari kode program tersebut tepat di bawah Cell Python tersebut:\n",
    "![](./images/01_output.png)\n",
    "\n",
    "Kerjakan di bawah ↓↓↓\n",
    "\n"
   ]
  },
  {
   "cell_type": "code",
   "execution_count": 5,
   "metadata": {},
   "outputs": [
    {
     "name": "stdout",
     "output_type": "stream",
     "text": [
      "Hello World\n"
     ]
    }
   ],
   "source": [
    "#  <<<<< Klik button play di samping kiri untuk menjalankannya\n",
    "# Ketikkan print(\"Hello World\") di baris selanjutnya ↓↓↓\n",
    "print(\"Hello World\")\n"
   ]
  },
  {
   "cell_type": "markdown",
   "metadata": {},
   "source": [
    "Pada saat kalian menjalankan kode program yang membutuhkan input. Kalian bisa menginputkannya pada **Pop up** seperti gambar berikut: ![](./images/01_contohInput.png)\n",
    "Untuk mencobanya, coba kalian jalankan kode Python di bawah dan coba inputkan string <font color='yellow'>Hello World</font>. Kemudian tekan enter."
   ]
  },
  {
   "cell_type": "code",
   "execution_count": 6,
   "metadata": {},
   "outputs": [
    {
     "name": "stdout",
     "output_type": "stream",
     "text": [
      "Hello World\n"
     ]
    }
   ],
   "source": [
    "# <<< Klik play untuk menjalankan kode di bawah\n",
    "print(str(input(\"Ketikkan Pesan: \")))"
   ]
  },
  {
   "cell_type": "markdown",
   "metadata": {},
   "source": [
    "## Mengisi Form\n",
    "Setelah kalian selesai mengerjakkan tugas. Jangan lupa isi form untuk mendata alamat repositori kalian [di sini](https://forms.gle/DfiniLH2MdXjWwzVA) agar asisten dapat mengecek pekerjaan kalian."
   ]
  },
  {
   "cell_type": "markdown",
   "metadata": {},
   "source": []
  },
  {
   "cell_type": "markdown",
   "metadata": {},
   "source": [
    "***\n",
    "<h1 align=\"center\">Well Done!!!</h1> \n",
    "\n",
    "***"
   ]
  }
 ],
 "metadata": {
  "interpreter": {
   "hash": "ac59ebe37160ed0dfa835113d9b8498d9f09ceb179beaac4002f036b9467c963"
  },
  "kernelspec": {
   "display_name": "Python 3.9.8 64-bit",
   "language": "python",
   "name": "python3"
  },
  "language_info": {
   "codemirror_mode": {
    "name": "ipython",
    "version": 3
   },
   "file_extension": ".py",
   "mimetype": "text/x-python",
   "name": "python",
   "nbconvert_exporter": "python",
   "pygments_lexer": "ipython3",
   "version": "3.9.10"
  },
  "orig_nbformat": 4
 },
 "nbformat": 4,
 "nbformat_minor": 2
}
